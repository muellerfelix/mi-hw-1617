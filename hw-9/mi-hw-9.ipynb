{
 "cells": [
  {
   "cell_type": "code",
   "execution_count": 6,
   "metadata": {
    "collapsed": false
   },
   "outputs": [],
   "source": [
    "% matplotlib inline\n",
    "\n",
    "import numpy as np\n",
    "import scipy as sp\n",
    "import math\n",
    "import scipy.stats as scp\n",
    "import matplotlib as mpl\n",
    "from numpy import linalg as la\n",
    "from numpy import random as rand\n",
    "from matplotlib import pyplot as plt\n",
    "from sklearn import svm"
   ]
  },
  {
   "cell_type": "code",
   "execution_count": 3,
   "metadata": {
    "collapsed": false
   },
   "outputs": [],
   "source": [
    "Data = np.genfromtxt(\"TrainingRidge.csv\", delimiter=',', skip_header=True,dtype='float').T\n",
    "\n",
    "X = Data[0:2,:].T\n",
    "Y = Data[2,:][np.newaxis,:].T\n"
   ]
  },
  {
   "cell_type": "code",
   "execution_count": 41,
   "metadata": {
    "collapsed": false
   },
   "outputs": [
    {
     "name": "stdout",
     "output_type": "stream",
     "text": [
      "[ 10.  14.   2.  32.  10.   9.  15.  19.  10.  33.  14.  35.   6.  18.  37.\n",
      "  14.  12.   3.  17.  12.   7.  14.  20.  22.  29.   6.   9.  14.  41.  12.\n",
      "  26.   9.  18.   6.  21.  10.   6.   8.  12.  29.  11.  14.   9.  17.  40.\n",
      "  30.  26.  29.  31.  14.   9.  20.  14.  12.   6.  16.  27.  14.  10.  14.\n",
      "  15.   8.  14.  20.  11.  13.  27.  16.  12.   3.   9.  11.  14.  53.  33.\n",
      "  11.   7.  15.  34.  14.  13.  22.  14.  10.  23.  23.   9.  25.   9.  27.\n",
      "  20.  11.  15.  12.  31.   7.  13.  12.  17.  33.  17.  19.  30.  22.  10.\n",
      "  10.  15.  41.  21.   6.   5.  11.  19.  25.  13.  26.  33.   9.  24.  15.\n",
      "  14.  10.  16.   9.  16.  24.  32.  17.  18.  17.  15.  20.  11.  15.  11.\n",
      "   9.  12.  13.  38.  15.  29.  16.  22.  22.  18.   8.  27.  26.   4.  32.\n",
      "  12.   6.  16.  10.  14.  12.  42.  13.  22.  12.  11.  44.   7.  17.   9.\n",
      "  19.  23.   3.  12.  22.   3.  22.  13.  21.  14.   5.  29.   9.   7.  46.\n",
      "  11.  32.  30.  10.   5.   7.  20.  28.  13.  14.  41.  15.  15.   6.  25.\n",
      "  36.  16.  25.  15.   6.]\n"
     ]
    },
    {
     "ename": "IndexError",
     "evalue": "index 10 is out of bounds for axis 1 with size 3",
     "output_type": "error",
     "traceback": [
      "\u001b[0;31m---------------------------------------------------------------------------\u001b[0m",
      "\u001b[0;31mIndexError\u001b[0m                                Traceback (most recent call last)",
      "\u001b[0;32m<ipython-input-41-f9d5e04da1df>\u001b[0m in \u001b[0;36m<module>\u001b[0;34m()\u001b[0m\n\u001b[1;32m      9\u001b[0m \u001b[0;34m\u001b[0m\u001b[0m\n\u001b[1;32m     10\u001b[0m \u001b[0mcolormap\u001b[0m \u001b[0;34m=\u001b[0m \u001b[0mnp\u001b[0m\u001b[0;34m.\u001b[0m\u001b[0marray\u001b[0m\u001b[0;34m(\u001b[0m\u001b[0;34m[\u001b[0m\u001b[0;34m'r'\u001b[0m\u001b[0;34m,\u001b[0m \u001b[0;34m'g'\u001b[0m\u001b[0;34m,\u001b[0m \u001b[0;34m'b'\u001b[0m\u001b[0;34m]\u001b[0m\u001b[0;34m)\u001b[0m\u001b[0;34m\u001b[0m\u001b[0m\n\u001b[0;32m---> 11\u001b[0;31m \u001b[0mplt\u001b[0m\u001b[0;34m.\u001b[0m\u001b[0mscatter\u001b[0m\u001b[0;34m(\u001b[0m\u001b[0mX\u001b[0m\u001b[0;34m[\u001b[0m\u001b[0;34m:\u001b[0m\u001b[0;34m,\u001b[0m\u001b[0;36m0\u001b[0m\u001b[0;34m]\u001b[0m\u001b[0;34m,\u001b[0m\u001b[0mX\u001b[0m\u001b[0;34m[\u001b[0m\u001b[0;34m:\u001b[0m\u001b[0;34m,\u001b[0m\u001b[0;36m1\u001b[0m\u001b[0;34m]\u001b[0m\u001b[0;34m,\u001b[0m\u001b[0mc\u001b[0m\u001b[0;34m=\u001b[0m\u001b[0mcolormap\u001b[0m\u001b[0;34m[\u001b[0m\u001b[0mpred_y\u001b[0m\u001b[0;34m.\u001b[0m\u001b[0mastype\u001b[0m\u001b[0;34m(\u001b[0m\u001b[0mint\u001b[0m\u001b[0;34m)\u001b[0m\u001b[0;34m]\u001b[0m\u001b[0;34m)\u001b[0m\u001b[0;34m\u001b[0m\u001b[0m\n\u001b[0m",
      "\u001b[0;31mIndexError\u001b[0m: index 10 is out of bounds for axis 1 with size 3"
     ]
    }
   ],
   "source": [
    "# train\n",
    "nsvm = svm.NuSVC(kernel='rbf',nu=0.1)\n",
    "nsvm.fit(X,Y)\n",
    "\n",
    "#predict \n",
    "pred_y = c_svm.predict(X)\n",
    "pred_y.astype(int)\n",
    "print pred_y\n",
    "\n",
    "colormap = np.array(['r', 'g', 'b'])\n",
    "plt.scatter(X[:,0],X[:,1],c=colormap[pred_y.astype(int)])\n"
   ]
  },
  {
   "cell_type": "code",
   "execution_count": null,
   "metadata": {
    "collapsed": true
   },
   "outputs": [],
   "source": []
  }
 ],
 "metadata": {
  "kernelspec": {
   "display_name": "Python 2",
   "language": "python",
   "name": "python2"
  },
  "language_info": {
   "codemirror_mode": {
    "name": "ipython",
    "version": 2
   },
   "file_extension": ".py",
   "mimetype": "text/x-python",
   "name": "python",
   "nbconvert_exporter": "python",
   "pygments_lexer": "ipython2",
   "version": "2.7.13"
  }
 },
 "nbformat": 4,
 "nbformat_minor": 2
}
