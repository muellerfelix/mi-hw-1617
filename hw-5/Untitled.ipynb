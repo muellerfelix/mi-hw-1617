{
 "cells": [
  {
   "cell_type": "code",
   "execution_count": null,
   "metadata": {
    "collapsed": true
   },
   "outputs": [],
   "source": [
    "clear all;\n",
    "\n",
    "training = csvread('TrainingRidge.csv');\n",
    "eps = 1e-15;\n",
    "\n",
    "X = training(:,1:2)';\n",
    "y = training(:,3);\n",
    "\n",
    "[~,n] = size(X(1,:));\n",
    "\n",
    "x_c(1,1) = 1/n .* sum(X(1,:));\n",
    "x_c(2,1) = 1/n .* sum(X(2,:));\n",
    "\n",
    "for i = 1 : n\n",
    "    x_ct(i,:) = X(:,i) - x_c;\n",
    "end\n",
    "\n",
    "X_ct = x_ct' ;\n",
    " \n",
    "C = (1/n) * (X_ct * X_ct'); \n",
    "  \n",
    "% Whitening D values V vectors\n",
    "[V,D] = eig(C);\n",
    "%D = eig(C);\n",
    "temp = zeros(2,2);\n",
    "for i = 1 : 2\n",
    "    temp(i,i) = 1/sqrt(D(i,i));\n",
    "end     \n",
    "x_final = temp *(V'*X_ct);\n",
    "\n",
    "g=1;\n",
    "\n",
    "for k = 0 : 10\n",
    "    a=0;\n",
    "    b=k;\n",
    "    for iter = 1 : k \n",
    "        temp = zeros(200,1);\n",
    "        for n = 1:200\n",
    "            temp(n) = x_final(1,n) ^ a * x_final(2,n) ^ b;\n",
    "        end \n",
    "        alle(g,:) = temp(:);\n",
    "        a = a+1;\n",
    "        b = b-1;\n",
    "        g = g+1;\n",
    "        \n",
    "    end\n",
    "\n",
    "end\n",
    "\n",
    "% HOW TO SCATTER PLOT THE FIRST 3 SHITTY THINGS?!\n",
    "m = -4:0.1:4;\n",
    "Xn = alle;\n",
    "w = 1./(Xn*Xn'+ lambda^m * eye(55))*(Xn*y);\n",
    "yt = w*;\n",
    "\n",
    "\n",
    "\n"
   ]
  }
 ],
 "metadata": {
  "kernelspec": {
   "display_name": "Python 2",
   "language": "python",
   "name": "python2"
  },
  "language_info": {
   "codemirror_mode": {
    "name": "ipython",
    "version": 2
   },
   "file_extension": ".py",
   "mimetype": "text/x-python",
   "name": "python",
   "nbconvert_exporter": "python",
   "pygments_lexer": "ipython2",
   "version": "2.7.12"
  }
 },
 "nbformat": 4,
 "nbformat_minor": 1
}
